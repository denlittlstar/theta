{
 "cells": [
  {
   "cell_type": "code",
   "execution_count": 2,
   "metadata": {
    "collapsed": false
   },
   "outputs": [
    {
     "name": "stdout",
     "output_type": "stream",
     "text": [
      "6522+0 enregistrements lus\n",
      "6522+0 enregistrements écrits\n",
      "6522 octets (6,5 kB) copiés, 0,0324236 s, 201 kB/s\n",
      "        Subject: DC=local, DC=wifilabs, CN=Users, CN=wifi-user\n",
      "                0B:C1:85:9B:11:BC:E9:6A:C0:4E:08:B3:87:BC:29:AF:35:6E:58:23\n"
     ]
    }
   ],
   "source": [
    "# ap1_v130.frm.part2.unxor.2 \n",
    "# 000eff30 SOFTUNE REALOS/ARM is REALtime OS for ARM.COPYRIGHT(C) FUJITSU SEMICONDUCTOR LIMITED 1999\n",
    "# 000f80d0 Shell Execute and RICOH\n",
    "# 000fada0 H:/z01firm and 192.168.1.1, 255.255.255.0\n",
    "# 000fe270 wlan/_ptpip_operation.c\n",
    "# 001071e0 IPL Mount\n",
    "# 0010ae20 RICOH Theta\n",
    "# 0x0010ae9c-> 0x0010c816 Certificate bundle + private key\n",
    "# RSA certificate\n",
    "!dd if=firmwares/unxor/ap1_v130.frm.part2.unxor.2 of=firmwares/unxor/ap1_v130.frm.part2.rsa_key.pem skip=1093276 bs=1 count=6522\n",
    "!openssl x509 -in firmwares/unxor/ap1_v130.frm.part2.rsa_key.pem -text| grep Subject:\n",
    "!openssl x509 -in firmwares/unxor/ap1_v130.frm.part2.rsa_key.pem -text| grep -A 1 \"Identifier\" | tail -n 1"
   ]
  },
  {
   "cell_type": "code",
   "execution_count": null,
   "metadata": {
    "collapsed": true
   },
   "outputs": [],
   "source": []
  }
 ],
 "metadata": {
  "kernelspec": {
   "display_name": "Python 2",
   "language": "python",
   "name": "python2"
  },
  "language_info": {
   "codemirror_mode": {
    "name": "ipython",
    "version": 2
   },
   "file_extension": ".py",
   "mimetype": "text/x-python",
   "name": "python",
   "nbconvert_exporter": "python",
   "pygments_lexer": "ipython2",
   "version": "2.7.9"
  }
 },
 "nbformat": 4,
 "nbformat_minor": 0
}
