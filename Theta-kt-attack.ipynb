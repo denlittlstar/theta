{
 "cells": [
  {
   "cell_type": "markdown",
   "metadata": {},
   "source": [
    "# Using Known text attack to identity XOR obsfuscation keys\n",
    "\n",
    "In this notebook, we use two approach to run known text attack (KT attacks) against the firmware files.\n",
    " 1. Run an heuristic that assumes the most prevalent byte value is 0x00\n",
    " 2. Run a real KT attack on sections of the files that alternate between 0xff and 0x00 values\n",
    "\n",
    "But first we need to look at the structure of the firmware files.\n",
    "\n",
    "## Firmware files structure"
   ]
  },
  {
   "cell_type": "code",
   "execution_count": 9,
   "metadata": {
    "collapsed": false
   },
   "outputs": [
    {
     "name": "stdout",
     "output_type": "stream",
     "text": [
      "5,0M firmwares/ap1_v110.frm  6,2M firmwares/gy1_v121.frm\r\n",
      "5,0M firmwares/ap1_v130.frm  6,2M firmwares/gy1_v130.frm\r\n",
      "5,0M firmwares/ap1_v131.frm\r\n"
     ]
    }
   ],
   "source": [
    "%run ThetaS.ipynb\n",
    "!ls -sh firmwares/*.frm"
   ]
  },
  {
   "cell_type": "markdown",
   "metadata": {},
   "source": [
    "We have 5 files, 3 for theta m15 and 2 for the theta S\n",
    "\n",
    "In each file we can see a part delimitor 'UNITY FILE V1.10'.\n",
    "\n",
    "The part header seem to be 0x800 bytes long. Then XOR obfuscation starts."
   ]
  },
  {
   "cell_type": "code",
   "execution_count": 10,
   "metadata": {
    "collapsed": false
   },
   "outputs": [
    {
     "name": "stdout",
     "output_type": "stream",
     "text": [
      "2,7M firmwares/parts/ap1_v110.frm.part1\r\n",
      "2,3M firmwares/parts/ap1_v110.frm.part2\r\n",
      "2,7M firmwares/parts/ap1_v130.frm.part1\r\n",
      "2,4M firmwares/parts/ap1_v130.frm.part2\r\n",
      "2,7M firmwares/parts/ap1_v131.frm.part1\r\n",
      "2,4M firmwares/parts/ap1_v131.frm.part2\r\n",
      "3,6M firmwares/parts/gy1_v121.frm.part1\r\n",
      "2,6M firmwares/parts/gy1_v121.frm.part2\r\n",
      "3,6M firmwares/parts/gy1_v130.frm.part1\r\n",
      "2,6M firmwares/parts/gy1_v130.frm.part2\r\n"
     ]
    }
   ],
   "source": [
    "# break the firmware in their two parts\n",
    "import os, mmap\n",
    "firmwares = [\"ap1_v110.frm\", \"ap1_v130.frm\", \"ap1_v131.frm\", \"gy1_v121.frm\", \"gy1_v130.frm\"]\n",
    "for f in firmwares:\n",
    "    fname = os.path.sep.join(['firmwares', f])\n",
    "    with open(fname, \"rb\") as fin:\n",
    "        partnum = 1\n",
    "        s = mmap.mmap(fin.fileno(), 0 , access = mmap.ACCESS_READ)\n",
    "        last = i = s.find('UNITY', 0)\n",
    "        while i >= 0:\n",
    "            # print f, i\n",
    "            i = s.find('UNITY', i+1)\n",
    "            outname = os.path.sep.join(['firmwares', 'parts', f])\n",
    "            with open(\"%s.part%d\" % (outname, partnum), \"wb\") as fout:\n",
    "                fout.write(s[last:i])\n",
    "                last = i\n",
    "                partnum += 1\n",
    "        s.close()\n",
    "!ls -sh firmwares/parts/*.part[1,2]"
   ]
  },
  {
   "cell_type": "markdown",
   "metadata": {},
   "source": [
    "We have 5 firmwares\n",
    "3 for m15 and 2 for S\n",
    "we can see that \n",
    "- there are section in these files with very low entropy (see below)\n",
    "- we verified that the same XOR keys generator is used for both version of product.\n",
    "- we verified these low entropy sections to be alternatinf 0x380 blocks of 0x00 and 0xff.\n"
   ]
  },
  {
   "cell_type": "code",
   "execution_count": null,
   "metadata": {
    "collapsed": false,
    "scrolled": false
   },
   "outputs": [
    {
     "name": "stdout",
     "output_type": "stream",
     "text": [
      "<Part 'gy1_v121.frm.part2', size: 0x00286000\n",
      " embed:\tSubPart y02firm8 size:0x285654 >\n",
      "<Part 'gy1_v130.frm.part1', size: 0x00619e00\n",
      " embed:\tSubPart y02firm6 size:0x393580\n",
      "\tSubPart gy1_v130up size:0x286000 >\n",
      "<Part 'gy1_v130.frm.part2', size: 0x00286000\n",
      " embed:\tSubPart y02firm8 size:0x285654 >\n",
      "<Part 'gy1_v121.frm.part1', size: 0x00619e00\n",
      " embed:\tSubPart y02firm6 size:0x393580\n",
      "\tSubPart gy1_v121up size:0x286000 >\n",
      "<Part 'ap1_v130.frm.part2', size: 0x0024dc00\n",
      " embed:\tSubPart z01firm8 size:0x24d254 >\n",
      "<Part 'ap1_v130.frm.part1', size: 0x004f3800\n",
      " embed:\tSubPart z01firm6 size:0x2a5240\n",
      "\tSubPart ap1_v130up size:0x24dc00 >\n",
      "<Part 'ap1_v110.frm.part1', size: 0x004ef400\n",
      " embed:\tSubPart z01firm6 size:0x2a5240\n",
      "\tSubPart ap1_v110up size:0x249800 >\n",
      "<Part 'ap1_v110.frm.part2', size: 0x00249800\n",
      " embed:\tSubPart z01firm8 size:0x248e54 >\n",
      "<Part 'ap1_v131.frm.part2', size: 0x0024dc00\n",
      " embed:\tSubPart z01firm8 size:0x24d254 >\n",
      "<Part 'ap1_v131.frm.part1', size: 0x004f3800\n",
      " embed:\tSubPart z01firm6 size:0x2a5240\n",
      "\tSubPart ap1_v131up size:0x24dc00 >\n"
     ]
    }
   ],
   "source": [
    "# the firmware\n",
    "firmwares = [\"ap1_v110.frm\", \"ap1_v130.frm\", \"ap1_v131.frm\", \"gy1_v121.frm\", \"gy1_v130.frm\"]\n",
    "simple_filenames = [f+'.part1' for f in firmwares] + [f+'.part2' for f in firmwares]\n",
    "filenames = [os.path.sep.join(['firmwares', 'parts', f]) for f in simple_filenames]\n",
    "\n",
    "firmwares_parts = dict([(os.path.basename(fname),FirmwarePart(fname)) for fname in filenames])\n",
    "firmwares_parts_m15 = dict([(fname, part) for fname, part in firmwares_parts.items() if \"ap1\" in fname])\n",
    "firmwares_parts_s = dict([(fname, part) for fname, part in firmwares_parts.items() if \"gy1\" in fname])\n",
    "\n",
    "for x in firmwares_parts.values():\n",
    "    print x"
   ]
  },
  {
   "cell_type": "markdown",
   "metadata": {},
   "source": [
    "## XOR key heuristic based on NULL values\n",
    "\n",
    "The first heuristic is too pretend that the most common byte value is 0x00. The function find_xor_key_3 is the heuristic implementation."
   ]
  },
  {
   "cell_type": "code",
   "execution_count": null,
   "metadata": {
    "collapsed": false
   },
   "outputs": [
    {
     "name": "stdout",
     "output_type": "stream",
     "text": [
      "gy1_v121.frm.part2 ... 5164 sections/keys and 5164 distinct keys\n",
      "wrote 5164 keys to firmwares/keys/gy1_v121.frm.part2.pkeys\n",
      "gy1_v130.frm.part1 ... 7323 sections/keys and 7323 distinct keys\n",
      "wrote 7323 keys to firmwares/keys/gy1_v130.frm.part1.pkeys\n",
      "gy1_v130.frm.part2 ..."
     ]
    }
   ],
   "source": [
    "# apply find_xor_key_3 xor heuristic to all section in memory\n",
    "for fname, firm in firmwares_parts.items():\n",
    "    print fname,\"...\",\n",
    "    firm.search_xor_keys(find_xor_key_3)\n",
    "    unxor_fname = os.path.sep.join(['firmwares', 'unxor', fname])\n",
    "    firm.write_to_file(unxor_fname+'.unxor.orig')\n",
    "    # firm.apply_xor(keys)\n",
    "    fullname = os.path.sep.join(['firmwares', 'keys', fname])\n",
    "    key_manager.add_keys(fname, firm.get_section_keys())\n",
    "    # save keys to file\n",
    "    key_manager.save_keys_to_file(fname, fname)"
   ]
  },
  {
   "cell_type": "markdown",
   "metadata": {},
   "source": [
    "## KT attacks gain low entropy sections of alternating 0x00 0xff\n",
    "\n",
    "In this heuristic, we will looks at low entropy sections of the firmware. The sections, in both the m15 and the theta S, are composed of alternating blocks of 0x380 bytes of 0xff or 0x00 bytes"
   ]
  },
  {
   "cell_type": "code",
   "execution_count": null,
   "metadata": {
    "collapsed": false
   },
   "outputs": [],
   "source": [
    "import collections\n",
    "# the alternating 0x00, 0xff blocks indexes\n",
    "alt_blocks = {}\n",
    "# show entropy from binwalk\n",
    "from IPython.display import Image\n",
    "# 0x99e00 starts a section of 0x00 for 0x580 bytes\n",
    "# M15 firmware low entropy section.\n",
    "# 0x99e00 -> 0x158000+ is a good know text attack\n",
    "# most easy from 0x9d000-> 0x158000+\n",
    "# we _know_ that 0xf98a0 is a start of block (00)\n",
    "known_good_start = 0xf98a0\n",
    "supposed_start = 0x9ae00\n",
    "start_blocks_addr = [i for i in range(known_good_start, supposed_start, -0x380)][-1]\n",
    "# part2 confirms with clear text at 0x9b7e0\n",
    "# finishing is not confirmed. Its weird down there.\n",
    "supposed_stop = 0x15e600\n",
    "stop_blocks_addr = [i for i in range(known_good_start, supposed_stop, 0x380)][-1]\n",
    "# print hex(stop_blocks_addr) # 0x15e2a0\n",
    "print \"Ricoh M15 Firmwares part\\nLow entropy from 0x%x -> 0x%x # %d kB-> %d kB\" % (start_blocks_addr, stop_blocks_addr, start_blocks_addr/1024, stop_blocks_addr/1024)\n",
    "alt_blocks['m15'] = (start_blocks_addr, stop_blocks_addr)\n",
    "# entropy.png was generated from binwalk\n",
    "Image(filename='firmwares/parts/entropy.ap1_v110.frm.part1.png')"
   ]
  },
  {
   "cell_type": "code",
   "execution_count": null,
   "metadata": {
    "collapsed": false
   },
   "outputs": [],
   "source": [
    "# MS firmware low entropy section.\n",
    "ap1_v130p1 = firmwares_parts['ap1_v130.frm.part1']\n",
    "ap1_v130p2 = firmwares_parts['ap1_v130.frm.part2']\n",
    "gy1_v121p1 = firmwares_parts['gy1_v121.frm.part1']\n",
    "gy1_v121p2 = firmwares_parts['gy1_v121.frm.part2']\n",
    "\n",
    "# low entropy at 0x95800->0xe8e00, probably a lot of Null bytes.\n",
    "# 0x0017be00 starts a 0x380 section of 0x00. \n",
    "# then the pattern of alternating 0x380 blocks\n",
    "# -> 0023e000\n",
    "\n",
    "# good decryption in part2\n",
    "known_good_start = 0x00185ab0\n",
    "# print \"start at 0x%x end expected at 0x%x\" %(known_good_start, (0x185ab0 + 0x380)) #\n",
    "supposed_start = 0x0017c000\n",
    "start_blocks_addr = [i for i in range(known_good_start, supposed_start, -0x380)][-1]\n",
    "\n",
    "# finishing is not confirmed. Its weird down there.\n",
    "supposed_stop = 0x23e000\n",
    "stop_blocks_addr = [i for i in range(known_good_start, supposed_stop, 0x380)][-1]\n",
    "#print \"start at 0x%x end expected at 0x%x\" %(known_good_start, (0x185ab0 + 0x380)) #\n",
    "\n",
    "print \"Ricoh Theta S Firmware Parts\\nLow entropy from 0x%x -> 0x%x # %d kB-> %d kB\" % (start_blocks_addr, stop_blocks_addr, start_blocks_addr/1024, stop_blocks_addr/1024)\n",
    "alt_blocks['s'] = (start_blocks_addr, stop_blocks_addr)\n",
    "Image(filename='firmwares/parts/entropy.gy1_v130.frm.part1.png')"
   ]
  },
  {
   "cell_type": "code",
   "execution_count": null,
   "metadata": {
    "collapsed": false
   },
   "outputs": [],
   "source": [
    "# TODO SANDBOX\n",
    "# use the alternating pattern of part1.\n",
    "# 0x99e00 -> 0x158000+ is a good know text attack\n",
    "# most easy from 0x9d000-> 0x158000+\n",
    "# change_key (, '4b0f08fe') # kt @0x9d000\n",
    "\n",
    "# we have a very good pattern match vfor bit1, Except at 0x000d4600 +0x200*32 (0x000d8600)\n",
    "if False:\n",
    "    addr = 0x38800\n",
    "    print \n",
    "    s1 = firmwares_parts['gy1_v121.frm.part1']\n",
    "    s2 = firmwares_parts['gy1_v121.frm.part2']\n",
    "    if False:\n",
    "        print hexdump_kt(s1[addr], s2[addr], addr)\n",
    "        addr += 0x200\n",
    "        print hexdump_kt(s1[addr], s2[addr], addr)\n",
    "        addr += 0x200\n",
    "        print hexdump_kt(s1[addr], s2[addr], addr)\n",
    "    else:\n",
    "        s1, s2, c = comp_at(s1, s2, addr)\n",
    "        #s1.reset_xor(find_xor_key_3)\n",
    "        #s2.reset_xor(find_xor_key_3)\n",
    "        #print try_reverse_key(s1)\n",
    "        #print try_reverse_key(s1, 'fefefefe')\n",
    "        print try_key(s2, 'a2dd405c')\n",
    "        #s1, s2, c = comp_at(ap1_v130p1, ap1_v130p2, 0x000f9a00)\n"
   ]
  },
  {
   "cell_type": "code",
   "execution_count": null,
   "metadata": {
    "collapsed": false
   },
   "outputs": [],
   "source": [
    "def kt_attack_alt_0f_blocks(start_address, stop_address, kt_firmware, firm_list):\n",
    "    ''' Runs a known text attack on low entropy sections of the firmware parts.\n",
    "    '''\n",
    "    # we know there are blocks of favorable 0x00 then 0xff\n",
    "    # we look at each block, and find_xor for the most common word in that block, in that section.\n",
    "    # taking in account that block can overlap two section (different xor keys between sections)\n",
    "    # we weight each key, and take the most promising for that section.\n",
    "    block_length = 0x380\n",
    "    \n",
    "    kt_keys_2 = collections.defaultdict(list)\n",
    "\n",
    "    # for addr in range(0xf98a0, 0x000fb200, block_length): # works\n",
    "    # for addr in range(0xb9000, 0xba000, block_length):\n",
    "    # for addr in range(0x9d020, 0xad000, block_length): # works\n",
    "    # for addr in range(start_blocks_addr, start_blocks_addr+0x1000, block_length):\n",
    "    # for addr in range(stop_blocks_addr1, stop_blocks_addr, block_length):\n",
    "\n",
    "    for addr in range(start_address, stop_address, block_length):    \n",
    "        section_start = kt_firmware[addr]._start\n",
    "        block_start = addr\n",
    "        ## print \"Block start:\", hex(addr), \"Section Start:\", hex(section_start)\n",
    "\n",
    "        # we expected that the most common xor key will be \n",
    "        pt = '\\x00\\x00\\x00\\x00'\n",
    "        # for addr-> min(addr+0x1c0, end_ofsection)\n",
    "        start = addr\n",
    "        target_end = addr+0x1c0\n",
    "        end_section = section_start + kt_firmware[start]._length\n",
    "        end = min(end_section, target_end)\n",
    "        if target_end == end:\n",
    "            # block is not between section\n",
    "            hkey1, stats = kt_firmware.search_xor_keys_by_addr(find_xor_key, start, end)\n",
    "            weight1 = float(end-start)/block_length\n",
    "            kt_keys_2[section_start].append((weight1,hkey1))\n",
    "            ## print \"kt_keys[0x%x] = %s # kt blocks 1 analysis (0x00) at @0x%x weight:%0.2f\" % (section_start, hkey1, start, weight1) \n",
    "        else:\n",
    "            # block is between section\n",
    "            next_section_start = kt_firmware[target_end]._start\n",
    "            hkey1, stats1 = kt_firmware.search_xor_keys_by_addr(find_xor_key, start, end)\n",
    "            hkey12, stats12 = kt_firmware.search_xor_keys_by_addr(find_xor_key, end, target_end)\n",
    "            # we have to merge stats12 with the below stats2\n",
    "            weight1 = float(end-start)/block_length\n",
    "            weight12 = float(target_end-end)/block_length\n",
    "            kt_keys_2[section_start].append((weight1,hkey1))\n",
    "            kt_keys_2[next_section_start].append((weight12,hkey12))\n",
    "            ## print \"kt_keys[0x%x] = %s # kt blocks 1 analysis (0x00) at @0x%x weight:%0.2f\" % (section_start, hkey1, start, weight1) \n",
    "            ## print \"kt_keys[0x%x] = %s # kt blocks 1.2 analysis (0x00) at @0x%x weight:%0.2f\" % (next_section_start, hkey12, start, weight12) \n",
    "\n",
    "        ## look for \n",
    "        pt = '\\xff\\xff\\xff\\xff'\n",
    "        start = addr+0x1c0\n",
    "        section_start = kt_firmware[start]._start\n",
    "        target_end = addr+0x380\n",
    "        end_section = section_start + kt_firmware[start]._length\n",
    "        end = min(end_section, target_end)\n",
    "        if target_end == end:\n",
    "            # block is not between section\n",
    "            hkey2, stats2 = kt_firmware.search_xor_keys_by_addr(find_xor_key, start, end)\n",
    "            hkey2 = hkey_reverse(hkey2)\n",
    "            weight2 = float(end-start)/block_length\n",
    "            kt_keys_2[section_start].append((weight2,hkey2))\n",
    "            ## print \"kt_keys[0x%x] = %s # kt blocks 2 analysis (0xff) at @0x%x weight:%0.2f\" % (section_start, hkey2, start, weight2) \n",
    "        else:\n",
    "            # block is between section\n",
    "            next_section_start = kt_firmware[target_end]._start\n",
    "            hkey2, stats2 = kt_firmware.search_xor_keys_by_addr(find_xor_key, start, end)\n",
    "            hkey22, stats22 = kt_firmware.search_xor_keys_by_addr(find_xor_key, end, target_end)\n",
    "            hkey2 = hkey_reverse(hkey2)\n",
    "            hkey22 = hkey_reverse(hkey22)\n",
    "            weight2 = float(end-start)/block_length\n",
    "            weight22 = float(target_end-end)/block_length\n",
    "            kt_keys_2[section_start].append((weight2,hkey2))\n",
    "            kt_keys_2[next_section_start].append((weight22,hkey22))\n",
    "            ## print \"kt_keys[0x%x] = %s # kt blocks 2 analysis (0xff) at @0x%x weight:%0.2f\" % (section_start, hkey2, start, weight2) \n",
    "            ## print \"kt_keys[0x%x] = %s # kt blocks 2.2 analysis (0xff) at @0x%x weight:%0.2f\" % (next_section_start, hkey22, start, weight22) \n",
    "\n",
    "    # sort by address\n",
    "    kt_keys = kt_keys_2.items()\n",
    "    kt_keys.sort(key=lambda x: x[0])\n",
    "    for addr, wkeys in kt_keys:\n",
    "        # add similar key's weight\n",
    "        weights = collections.defaultdict(float)\n",
    "        for weight, hkey in wkeys:\n",
    "            weights[hkey] += weight\n",
    "        weights = weights.items()\n",
    "        # sort by weight\n",
    "        weights.sort(key=lambda x:x[1], reverse=True)\n",
    "        hkey = weights[0][0]\n",
    "        i = get_i_from_address(addr)\n",
    "        ## print change_string(i, hkey, addr, r='kt blocks')\n",
    "        for firm in firm_list:\n",
    "            try:\n",
    "                firm[addr].xor(binascii.unhexlify(hkey))\n",
    "            except IndexError:\n",
    "                pass\n",
    "    start_i = get_i_from_address(kt_keys[0][0])\n",
    "    stop_i = get_i_from_address(kt_keys[-1][0])\n",
    "    print \"%d keys updated from 0x%x (%d) to 0x%x (%d) in %s\" % (len(kt_keys), start_address, start_i, stop_address, stop_i, kt_firmware.name)\n",
    "    # DEBUG\n",
    "    # for addr, hkey in kt_keys:\n",
    "    #     print hexdump_kt(ap1_v130p1[addr], ap1_v130p2[addr], addr)\n",
    "    return\n",
    "\n",
    "# run the KT attack from m15 firmwares KT to all firmwares\n",
    "start_blocks_addr, stop_blocks_addr = alt_blocks['m15']\n",
    "kt_attack_alt_0f_blocks(start_blocks_addr, stop_blocks_addr, ap1_v130p1, firmwares_parts_m15.values() + firmwares_parts_s.values())\n",
    "start_blocks_addr, stop_blocks_addr = alt_blocks['s']\n",
    "kt_attack_alt_0f_blocks(start_blocks_addr, stop_blocks_addr, gy1_v121p1, firmwares_parts_m15.values() + firmwares_parts_s.values())\n",
    "\n",
    "# update our key store\n",
    "for fname, firm in firmwares_parts.items():\n",
    "    key_manager.add_keys(fname, firm.get_section_keys())\n"
   ]
  },
  {
   "cell_type": "markdown",
   "metadata": {},
   "source": [
    "## Merging both heuristic\n",
    "\n",
    "The heuristic have been applied to all firmwares files. We merge results by choosing the most common key used at each section across all firmwares parts."
   ]
  },
  {
   "cell_type": "code",
   "execution_count": null,
   "metadata": {
    "collapsed": false
   },
   "outputs": [],
   "source": [
    "# read all keys, take the most common key shared by all firmware parts\n",
    "# we will call that list the consensus list, from our xor heuristic + KT attack.\n",
    "consensus_keys = []\n",
    "consensus_alt = []\n",
    "keylist_names = key_manager.keylist.keys()\n",
    "for i in range(0, len(key_manager.get_keys('gy1_v130.frm.part1'))):\n",
    "    _keys = []\n",
    "    for fname in keylist_names:\n",
    "        temp_keylist = key_manager.get_keys(fname)\n",
    "        if len(temp_keylist) > i:\n",
    "            _keys.append(temp_keylist[i])\n",
    "    consensus_keys.append(collections.Counter(_keys).most_common(1)[0][0])\n",
    "    consensus_alt.append(collections.Counter(_keys))\n",
    "#\n",
    "key_manager.add_keys('consensus', consensus_keys)\n",
    "# save keys to file\n",
    "nb, fname = key_manager.save_keys_to_file('consensus', 'consensus')\n",
    "print 'Consensus keys: %d keys save to %s' % (len(consensus_keys), fname)\n"
   ]
  },
  {
   "cell_type": "code",
   "execution_count": null,
   "metadata": {
    "collapsed": false
   },
   "outputs": [],
   "source": [
    "# save the previous unxor to file\n",
    "for fname, firm in firmwares_parts.items():\n",
    "    print fname, \"...\",\n",
    "    firm.apply_xor(key_manager.get_keys('consensus'))\n",
    "    unxor_filename = os.path.sep.join(['firmwares', 'unxor', fname]) + '.unxor.2'\n",
    "    firm.write_to_file(unxor_filename)\n",
    "    print 'wrote to', unxor_filename"
   ]
  },
  {
   "cell_type": "code",
   "execution_count": null,
   "metadata": {
    "collapsed": false
   },
   "outputs": [],
   "source": [
    "# TODO send to sandbox\n",
    "# depends on consensus_keys, consensus_alt\n",
    "if False:\n",
    "    # show alternate keys for address.\n",
    "    address = 0x186e00\n",
    "    for fname, firm in firmwares_parts.items():\n",
    "        if address <= len(firm):\n",
    "            previously, _ = firm.search_xor_keys_by_addr(find_xor_key, address, address+0x200)\n",
    "            i = get_i_from_address(address)\n",
    "            consensus = consensus_keys[i]\n",
    "            print fname, \"key:\" , firm[address].hex_key, \"previous autokey:\", previously, \"rev:\",hkey_reverse(previously), \"cons:\", consensus\n",
    "    final_i = get_i_from_address(address)\n",
    "    print consensus_alt[final_i]\n",
    "\n",
    "    # ap1_v130.frm.part2.unxor.2 seems to disagree on 0x189800 key given by kt_attack_alt_0f_blocks\n",
    "    # TODO use kt_attack_alt_0f_blocks on easy KT, but on all part1 individually as KT.\n",
    "    k2 = '2d736b6a'\n",
    "    for firm in firmwares_parts.values():\n",
    "        print firm.name\n",
    "        #try_key(firm[address], k2)\n"
   ]
  }
 ],
 "metadata": {
  "kernelspec": {
   "display_name": "Python 2",
   "language": "python",
   "name": "python2"
  },
  "language_info": {
   "codemirror_mode": {
    "name": "ipython",
    "version": 2
   },
   "file_extension": ".py",
   "mimetype": "text/x-python",
   "name": "python",
   "nbconvert_exporter": "python",
   "pygments_lexer": "ipython2",
   "version": "2.7.10"
  }
 },
 "nbformat": 4,
 "nbformat_minor": 0
}
